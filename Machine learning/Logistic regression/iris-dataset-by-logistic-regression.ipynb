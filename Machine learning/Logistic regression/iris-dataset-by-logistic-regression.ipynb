{
 "cells": [
  {
   "cell_type": "code",
   "execution_count": 1,
   "id": "equal-fraction",
   "metadata": {
    "_cell_guid": "b1076dfc-b9ad-4769-8c92-a6c4dae69d19",
    "_uuid": "8f2839f25d086af736a60e9eeb907d3b93b6e0e5",
    "execution": {
     "iopub.execute_input": "2021-06-07T09:28:45.636735Z",
     "iopub.status.busy": "2021-06-07T09:28:45.636139Z",
     "iopub.status.idle": "2021-06-07T09:28:45.650672Z",
     "shell.execute_reply": "2021-06-07T09:28:45.650065Z",
     "shell.execute_reply.started": "2021-06-07T09:27:59.678085Z"
    },
    "papermill": {
     "duration": 0.039061,
     "end_time": "2021-06-07T09:28:45.650829",
     "exception": false,
     "start_time": "2021-06-07T09:28:45.611768",
     "status": "completed"
    },
    "tags": []
   },
   "outputs": [
    {
     "name": "stdout",
     "output_type": "stream",
     "text": [
      "/kaggle/input/iris/Iris.csv\n",
      "/kaggle/input/iris/database.sqlite\n"
     ]
    }
   ],
   "source": [
    "# This Python 3 environment comes with many helpful analytics libraries installed\n",
    "# It is defined by the kaggle/python Docker image: https://github.com/kaggle/docker-python\n",
    "# For example, here's several helpful packages to load\n",
    "\n",
    "import numpy as np # linear algebra\n",
    "import pandas as pd # data processing, CSV file I/O (e.g. pd.read_csv)\n",
    "\n",
    "# Input data files are available in the read-only \"../input/\" directory\n",
    "# For example, running this (by clicking run or pressing Shift+Enter) will list all files under the input directory\n",
    "\n",
    "import os\n",
    "for dirname, _, filenames in os.walk('/kaggle/input'):\n",
    "    for filename in filenames:\n",
    "        print(os.path.join(dirname, filename))\n",
    "\n",
    "# You can write up to 20GB to the current directory (/kaggle/working/) that gets preserved as output when you create a version using \"Save & Run All\" \n",
    "# You can also write temporary files to /kaggle/temp/, but they won't be saved outside of the current session"
   ]
  },
  {
   "cell_type": "code",
   "execution_count": 2,
   "id": "received-preliminary",
   "metadata": {
    "execution": {
     "iopub.execute_input": "2021-06-07T09:28:45.679006Z",
     "iopub.status.busy": "2021-06-07T09:28:45.678244Z",
     "iopub.status.idle": "2021-06-07T09:28:45.714547Z",
     "shell.execute_reply": "2021-06-07T09:28:45.714042Z",
     "shell.execute_reply.started": "2021-06-07T09:27:59.706573Z"
    },
    "papermill": {
     "duration": 0.051867,
     "end_time": "2021-06-07T09:28:45.714675",
     "exception": false,
     "start_time": "2021-06-07T09:28:45.662808",
     "status": "completed"
    },
    "tags": []
   },
   "outputs": [
    {
     "data": {
      "text/html": [
       "<div>\n",
       "<style scoped>\n",
       "    .dataframe tbody tr th:only-of-type {\n",
       "        vertical-align: middle;\n",
       "    }\n",
       "\n",
       "    .dataframe tbody tr th {\n",
       "        vertical-align: top;\n",
       "    }\n",
       "\n",
       "    .dataframe thead th {\n",
       "        text-align: right;\n",
       "    }\n",
       "</style>\n",
       "<table border=\"1\" class=\"dataframe\">\n",
       "  <thead>\n",
       "    <tr style=\"text-align: right;\">\n",
       "      <th></th>\n",
       "      <th>Id</th>\n",
       "      <th>SepalLengthCm</th>\n",
       "      <th>SepalWidthCm</th>\n",
       "      <th>PetalLengthCm</th>\n",
       "      <th>PetalWidthCm</th>\n",
       "      <th>Species</th>\n",
       "    </tr>\n",
       "  </thead>\n",
       "  <tbody>\n",
       "    <tr>\n",
       "      <th>0</th>\n",
       "      <td>1</td>\n",
       "      <td>5.1</td>\n",
       "      <td>3.5</td>\n",
       "      <td>1.4</td>\n",
       "      <td>0.2</td>\n",
       "      <td>Iris-setosa</td>\n",
       "    </tr>\n",
       "    <tr>\n",
       "      <th>1</th>\n",
       "      <td>2</td>\n",
       "      <td>4.9</td>\n",
       "      <td>3.0</td>\n",
       "      <td>1.4</td>\n",
       "      <td>0.2</td>\n",
       "      <td>Iris-setosa</td>\n",
       "    </tr>\n",
       "    <tr>\n",
       "      <th>2</th>\n",
       "      <td>3</td>\n",
       "      <td>4.7</td>\n",
       "      <td>3.2</td>\n",
       "      <td>1.3</td>\n",
       "      <td>0.2</td>\n",
       "      <td>Iris-setosa</td>\n",
       "    </tr>\n",
       "    <tr>\n",
       "      <th>3</th>\n",
       "      <td>4</td>\n",
       "      <td>4.6</td>\n",
       "      <td>3.1</td>\n",
       "      <td>1.5</td>\n",
       "      <td>0.2</td>\n",
       "      <td>Iris-setosa</td>\n",
       "    </tr>\n",
       "    <tr>\n",
       "      <th>4</th>\n",
       "      <td>5</td>\n",
       "      <td>5.0</td>\n",
       "      <td>3.6</td>\n",
       "      <td>1.4</td>\n",
       "      <td>0.2</td>\n",
       "      <td>Iris-setosa</td>\n",
       "    </tr>\n",
       "  </tbody>\n",
       "</table>\n",
       "</div>"
      ],
      "text/plain": [
       "   Id  SepalLengthCm  SepalWidthCm  PetalLengthCm  PetalWidthCm      Species\n",
       "0   1            5.1           3.5            1.4           0.2  Iris-setosa\n",
       "1   2            4.9           3.0            1.4           0.2  Iris-setosa\n",
       "2   3            4.7           3.2            1.3           0.2  Iris-setosa\n",
       "3   4            4.6           3.1            1.5           0.2  Iris-setosa\n",
       "4   5            5.0           3.6            1.4           0.2  Iris-setosa"
      ]
     },
     "execution_count": 2,
     "metadata": {},
     "output_type": "execute_result"
    }
   ],
   "source": [
    "# Loading the Dataset\n",
    "iris_data = pd.read_csv(\"/kaggle/input/iris/Iris.csv\")\n",
    "iris_data.head()"
   ]
  },
  {
   "cell_type": "code",
   "execution_count": 3,
   "id": "refined-animal",
   "metadata": {
    "execution": {
     "iopub.execute_input": "2021-06-07T09:28:45.742432Z",
     "iopub.status.busy": "2021-06-07T09:28:45.741738Z",
     "iopub.status.idle": "2021-06-07T09:28:45.746083Z",
     "shell.execute_reply": "2021-06-07T09:28:45.745487Z",
     "shell.execute_reply.started": "2021-06-07T09:27:59.743688Z"
    },
    "papermill": {
     "duration": 0.019726,
     "end_time": "2021-06-07T09:28:45.746211",
     "exception": false,
     "start_time": "2021-06-07T09:28:45.726485",
     "status": "completed"
    },
    "tags": []
   },
   "outputs": [
    {
     "data": {
      "text/plain": [
       "(150, 6)"
      ]
     },
     "execution_count": 3,
     "metadata": {},
     "output_type": "execute_result"
    }
   ],
   "source": [
    "# shape of the given dataset\n",
    "iris_data.shape"
   ]
  },
  {
   "cell_type": "code",
   "execution_count": 4,
   "id": "varied-roulette",
   "metadata": {
    "execution": {
     "iopub.execute_input": "2021-06-07T09:28:45.790603Z",
     "iopub.status.busy": "2021-06-07T09:28:45.789934Z",
     "iopub.status.idle": "2021-06-07T09:28:45.792854Z",
     "shell.execute_reply": "2021-06-07T09:28:45.793326Z",
     "shell.execute_reply.started": "2021-06-07T09:27:59.749660Z"
    },
    "papermill": {
     "duration": 0.035089,
     "end_time": "2021-06-07T09:28:45.793493",
     "exception": false,
     "start_time": "2021-06-07T09:28:45.758404",
     "status": "completed"
    },
    "tags": []
   },
   "outputs": [
    {
     "name": "stdout",
     "output_type": "stream",
     "text": [
      "<class 'pandas.core.frame.DataFrame'>\n",
      "RangeIndex: 150 entries, 0 to 149\n",
      "Data columns (total 6 columns):\n",
      " #   Column         Non-Null Count  Dtype  \n",
      "---  ------         --------------  -----  \n",
      " 0   Id             150 non-null    int64  \n",
      " 1   SepalLengthCm  150 non-null    float64\n",
      " 2   SepalWidthCm   150 non-null    float64\n",
      " 3   PetalLengthCm  150 non-null    float64\n",
      " 4   PetalWidthCm   150 non-null    float64\n",
      " 5   Species        150 non-null    object \n",
      "dtypes: float64(4), int64(1), object(1)\n",
      "memory usage: 7.2+ KB\n"
     ]
    }
   ],
   "source": [
    "iris_data.info()"
   ]
  },
  {
   "cell_type": "code",
   "execution_count": 5,
   "id": "historical-newsletter",
   "metadata": {
    "execution": {
     "iopub.execute_input": "2021-06-07T09:28:45.824072Z",
     "iopub.status.busy": "2021-06-07T09:28:45.823323Z",
     "iopub.status.idle": "2021-06-07T09:28:45.827593Z",
     "shell.execute_reply": "2021-06-07T09:28:45.827049Z",
     "shell.execute_reply.started": "2021-06-07T09:27:59.777071Z"
    },
    "papermill": {
     "duration": 0.021579,
     "end_time": "2021-06-07T09:28:45.827726",
     "exception": false,
     "start_time": "2021-06-07T09:28:45.806147",
     "status": "completed"
    },
    "tags": []
   },
   "outputs": [
    {
     "data": {
      "text/plain": [
       "array(['Iris-setosa', 'Iris-versicolor', 'Iris-virginica'], dtype=object)"
      ]
     },
     "execution_count": 5,
     "metadata": {},
     "output_type": "execute_result"
    }
   ],
   "source": [
    "# Unique species of the iris flower\n",
    "iris_data[\"Species\"].unique()"
   ]
  },
  {
   "cell_type": "code",
   "execution_count": 6,
   "id": "appreciated-primary",
   "metadata": {
    "execution": {
     "iopub.execute_input": "2021-06-07T09:28:45.859037Z",
     "iopub.status.busy": "2021-06-07T09:28:45.858406Z",
     "iopub.status.idle": "2021-06-07T09:28:46.721490Z",
     "shell.execute_reply": "2021-06-07T09:28:46.721988Z",
     "shell.execute_reply.started": "2021-06-07T09:27:59.789605Z"
    },
    "papermill": {
     "duration": 0.881028,
     "end_time": "2021-06-07T09:28:46.722181",
     "exception": false,
     "start_time": "2021-06-07T09:28:45.841153",
     "status": "completed"
    },
    "tags": []
   },
   "outputs": [],
   "source": [
    "# Enciding the categorical species unti comtinuous\n",
    "from sklearn.preprocessing import LabelEncoder\n",
    "encode = LabelEncoder()\n",
    "target_y = encode.fit_transform(iris_data[\"Species\"])"
   ]
  },
  {
   "cell_type": "code",
   "execution_count": 7,
   "id": "anticipated-status",
   "metadata": {
    "execution": {
     "iopub.execute_input": "2021-06-07T09:28:46.751528Z",
     "iopub.status.busy": "2021-06-07T09:28:46.750889Z",
     "iopub.status.idle": "2021-06-07T09:28:46.764792Z",
     "shell.execute_reply": "2021-06-07T09:28:46.765302Z",
     "shell.execute_reply.started": "2021-06-07T09:28:00.622810Z"
    },
    "papermill": {
     "duration": 0.030081,
     "end_time": "2021-06-07T09:28:46.765468",
     "exception": false,
     "start_time": "2021-06-07T09:28:46.735387",
     "status": "completed"
    },
    "tags": []
   },
   "outputs": [
    {
     "data": {
      "text/html": [
       "<div>\n",
       "<style scoped>\n",
       "    .dataframe tbody tr th:only-of-type {\n",
       "        vertical-align: middle;\n",
       "    }\n",
       "\n",
       "    .dataframe tbody tr th {\n",
       "        vertical-align: top;\n",
       "    }\n",
       "\n",
       "    .dataframe thead th {\n",
       "        text-align: right;\n",
       "    }\n",
       "</style>\n",
       "<table border=\"1\" class=\"dataframe\">\n",
       "  <thead>\n",
       "    <tr style=\"text-align: right;\">\n",
       "      <th></th>\n",
       "      <th>Id</th>\n",
       "      <th>SepalLengthCm</th>\n",
       "      <th>SepalWidthCm</th>\n",
       "      <th>PetalLengthCm</th>\n",
       "      <th>PetalWidthCm</th>\n",
       "      <th>Species</th>\n",
       "      <th>iris_spices</th>\n",
       "    </tr>\n",
       "  </thead>\n",
       "  <tbody>\n",
       "    <tr>\n",
       "      <th>0</th>\n",
       "      <td>1</td>\n",
       "      <td>5.1</td>\n",
       "      <td>3.5</td>\n",
       "      <td>1.4</td>\n",
       "      <td>0.2</td>\n",
       "      <td>Iris-setosa</td>\n",
       "      <td>0</td>\n",
       "    </tr>\n",
       "    <tr>\n",
       "      <th>1</th>\n",
       "      <td>2</td>\n",
       "      <td>4.9</td>\n",
       "      <td>3.0</td>\n",
       "      <td>1.4</td>\n",
       "      <td>0.2</td>\n",
       "      <td>Iris-setosa</td>\n",
       "      <td>0</td>\n",
       "    </tr>\n",
       "    <tr>\n",
       "      <th>2</th>\n",
       "      <td>3</td>\n",
       "      <td>4.7</td>\n",
       "      <td>3.2</td>\n",
       "      <td>1.3</td>\n",
       "      <td>0.2</td>\n",
       "      <td>Iris-setosa</td>\n",
       "      <td>0</td>\n",
       "    </tr>\n",
       "    <tr>\n",
       "      <th>3</th>\n",
       "      <td>4</td>\n",
       "      <td>4.6</td>\n",
       "      <td>3.1</td>\n",
       "      <td>1.5</td>\n",
       "      <td>0.2</td>\n",
       "      <td>Iris-setosa</td>\n",
       "      <td>0</td>\n",
       "    </tr>\n",
       "    <tr>\n",
       "      <th>4</th>\n",
       "      <td>5</td>\n",
       "      <td>5.0</td>\n",
       "      <td>3.6</td>\n",
       "      <td>1.4</td>\n",
       "      <td>0.2</td>\n",
       "      <td>Iris-setosa</td>\n",
       "      <td>0</td>\n",
       "    </tr>\n",
       "  </tbody>\n",
       "</table>\n",
       "</div>"
      ],
      "text/plain": [
       "   Id  SepalLengthCm  SepalWidthCm  PetalLengthCm  PetalWidthCm      Species  \\\n",
       "0   1            5.1           3.5            1.4           0.2  Iris-setosa   \n",
       "1   2            4.9           3.0            1.4           0.2  Iris-setosa   \n",
       "2   3            4.7           3.2            1.3           0.2  Iris-setosa   \n",
       "3   4            4.6           3.1            1.5           0.2  Iris-setosa   \n",
       "4   5            5.0           3.6            1.4           0.2  Iris-setosa   \n",
       "\n",
       "   iris_spices  \n",
       "0            0  \n",
       "1            0  \n",
       "2            0  \n",
       "3            0  \n",
       "4            0  "
      ]
     },
     "execution_count": 7,
     "metadata": {},
     "output_type": "execute_result"
    }
   ],
   "source": [
    "iris_data[\"iris_spices\"] = pd.DataFrame(target_y)\n",
    "iris_data.head()"
   ]
  },
  {
   "cell_type": "code",
   "execution_count": 8,
   "id": "retired-diana",
   "metadata": {
    "execution": {
     "iopub.execute_input": "2021-06-07T09:28:46.796026Z",
     "iopub.status.busy": "2021-06-07T09:28:46.795400Z",
     "iopub.status.idle": "2021-06-07T09:28:46.799615Z",
     "shell.execute_reply": "2021-06-07T09:28:46.800118Z",
     "shell.execute_reply.started": "2021-06-07T09:28:00.639257Z"
    },
    "papermill": {
     "duration": 0.021094,
     "end_time": "2021-06-07T09:28:46.800274",
     "exception": false,
     "start_time": "2021-06-07T09:28:46.779180",
     "status": "completed"
    },
    "tags": []
   },
   "outputs": [],
   "source": [
    "# selecting the feature variable(X) and target variable(y)\n",
    "X = iris_data.iloc[:, 1:5].values\n",
    "y = iris_data.iloc[:, -1].values"
   ]
  },
  {
   "cell_type": "code",
   "execution_count": 9,
   "id": "fresh-reward",
   "metadata": {
    "execution": {
     "iopub.execute_input": "2021-06-07T09:28:46.830337Z",
     "iopub.status.busy": "2021-06-07T09:28:46.829669Z",
     "iopub.status.idle": "2021-06-07T09:28:46.900039Z",
     "shell.execute_reply": "2021-06-07T09:28:46.900528Z",
     "shell.execute_reply.started": "2021-06-07T09:28:00.651507Z"
    },
    "papermill": {
     "duration": 0.086898,
     "end_time": "2021-06-07T09:28:46.900709",
     "exception": false,
     "start_time": "2021-06-07T09:28:46.813811",
     "status": "completed"
    },
    "tags": []
   },
   "outputs": [],
   "source": [
    "# Spliting the model into train and test set\n",
    "from sklearn.model_selection import train_test_split\n",
    "x_train, x_test, y_train, y_test = train_test_split(X, y, test_size = 0.2, random_state = 1)"
   ]
  },
  {
   "cell_type": "code",
   "execution_count": 10,
   "id": "revised-snapshot",
   "metadata": {
    "execution": {
     "iopub.execute_input": "2021-06-07T09:28:46.932113Z",
     "iopub.status.busy": "2021-06-07T09:28:46.931445Z",
     "iopub.status.idle": "2021-06-07T09:28:47.059342Z",
     "shell.execute_reply": "2021-06-07T09:28:47.059842Z",
     "shell.execute_reply.started": "2021-06-07T09:28:00.720882Z"
    },
    "papermill": {
     "duration": 0.145343,
     "end_time": "2021-06-07T09:28:47.060049",
     "exception": false,
     "start_time": "2021-06-07T09:28:46.914706",
     "status": "completed"
    },
    "tags": []
   },
   "outputs": [],
   "source": [
    "# making the model \n",
    "from sklearn.linear_model import LogisticRegression\n",
    "model = LogisticRegression()\n",
    "iris_train = model.fit(x_train, y_train)\n",
    "\n",
    "# predicting the model \n",
    "y_pred = model.predict(x_test)\n"
   ]
  },
  {
   "cell_type": "code",
   "execution_count": 11,
   "id": "robust-fashion",
   "metadata": {
    "execution": {
     "iopub.execute_input": "2021-06-07T09:28:47.090102Z",
     "iopub.status.busy": "2021-06-07T09:28:47.089476Z",
     "iopub.status.idle": "2021-06-07T09:28:47.096462Z",
     "shell.execute_reply": "2021-06-07T09:28:47.096972Z",
     "shell.execute_reply.started": "2021-06-07T09:28:00.853574Z"
    },
    "papermill": {
     "duration": 0.023522,
     "end_time": "2021-06-07T09:28:47.097134",
     "exception": false,
     "start_time": "2021-06-07T09:28:47.073612",
     "status": "completed"
    },
    "tags": []
   },
   "outputs": [
    {
     "name": "stdout",
     "output_type": "stream",
     "text": [
      "mse : 0.03333333333333333\n",
      "accuracy : 0.9666666666666667\n"
     ]
    }
   ],
   "source": [
    "# Accuracy of model \n",
    "from sklearn.metrics import mean_absolute_error as mse\n",
    "print(\"mse :\", mse(y_test, y_pred))\n",
    "print(\"accuracy :\", model.score(x_test, y_test))"
   ]
  },
  {
   "cell_type": "code",
   "execution_count": 12,
   "id": "concerned-salon",
   "metadata": {
    "execution": {
     "iopub.execute_input": "2021-06-07T09:28:47.130471Z",
     "iopub.status.busy": "2021-06-07T09:28:47.129839Z",
     "iopub.status.idle": "2021-06-07T09:28:47.132890Z",
     "shell.execute_reply": "2021-06-07T09:28:47.133379Z",
     "shell.execute_reply.started": "2021-06-07T09:28:00.862438Z"
    },
    "papermill": {
     "duration": 0.022753,
     "end_time": "2021-06-07T09:28:47.133537",
     "exception": false,
     "start_time": "2021-06-07T09:28:47.110784",
     "status": "completed"
    },
    "tags": []
   },
   "outputs": [
    {
     "data": {
      "text/plain": [
       "array([0])"
      ]
     },
     "execution_count": 12,
     "metadata": {},
     "output_type": "execute_result"
    }
   ],
   "source": [
    "# testing of model \n",
    "y_pred = model.predict([[4.6, 3.1, 1.5, 0.2]])\n",
    "y_pred "
   ]
  },
  {
   "cell_type": "code",
   "execution_count": null,
   "id": "stretch-liberal",
   "metadata": {
    "papermill": {
     "duration": 0.013762,
     "end_time": "2021-06-07T09:28:47.162699",
     "exception": false,
     "start_time": "2021-06-07T09:28:47.148937",
     "status": "completed"
    },
    "tags": []
   },
   "outputs": [],
   "source": []
  }
 ],
 "metadata": {
  "kernelspec": {
   "display_name": "Python 3",
   "language": "python",
   "name": "python3"
  },
  "language_info": {
   "codemirror_mode": {
    "name": "ipython",
    "version": 3
   },
   "file_extension": ".py",
   "mimetype": "text/x-python",
   "name": "python",
   "nbconvert_exporter": "python",
   "pygments_lexer": "ipython3",
   "version": "3.7.10"
  },
  "papermill": {
   "default_parameters": {},
   "duration": 10.837637,
   "end_time": "2021-06-07T09:28:48.790946",
   "environment_variables": {},
   "exception": null,
   "input_path": "__notebook__.ipynb",
   "output_path": "__notebook__.ipynb",
   "parameters": {},
   "start_time": "2021-06-07T09:28:37.953309",
   "version": "2.3.3"
  }
 },
 "nbformat": 4,
 "nbformat_minor": 5
}
